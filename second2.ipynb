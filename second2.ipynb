{
 "cells": [
  {
   "cell_type": "code",
   "execution_count": 2,
   "metadata": {},
   "outputs": [],
   "source": [
    "import os\n",
    "import tensorflow as tf\n",
    "from tensorflow.keras.preprocessing.image import ImageDataGenerator\n",
    "from tensorflow.keras import layers, models\n",
    "from tensorflow.keras.callbacks import EarlyStopping, ModelCheckpoint\n",
    "from sklearn.metrics import classification_report, confusion_matrix\n",
    "import matplotlib.pyplot as plt\n",
    "import numpy as np\n",
    "import seaborn as sns"
   ]
  },
  {
   "cell_type": "code",
   "execution_count": 3,
   "metadata": {},
   "outputs": [
    {
     "name": "stdout",
     "output_type": "stream",
     "text": [
      "Found 17572 images belonging to 38 classes.\n",
      "Class labels:{'Apple___Apple_scab': 0, 'Apple___Black_rot': 1, 'Apple___Cedar_apple_rust': 2, 'Apple___healthy': 3, 'Blueberry___healthy': 4, 'Cherry_(including_sour)___Powdery_mildew': 5, 'Cherry_(including_sour)___healthy': 6, 'Corn_(maize)___Cercospora_leaf_spot Gray_leaf_spot': 7, 'Corn_(maize)___Common_rust_': 8, 'Corn_(maize)___Northern_Leaf_Blight': 9, 'Corn_(maize)___healthy': 10, 'Grape___Black_rot': 11, 'Grape___Esca_(Black_Measles)': 12, 'Grape___Leaf_blight_(Isariopsis_Leaf_Spot)': 13, 'Grape___healthy': 14, 'Orange___Haunglongbing_(Citrus_greening)': 15, 'Peach___Bacterial_spot': 16, 'Peach___healthy': 17, 'Pepper,_bell___Bacterial_spot': 18, 'Pepper,_bell___healthy': 19, 'Potato___Early_blight': 20, 'Potato___Late_blight': 21, 'Potato___healthy': 22, 'Raspberry___healthy': 23, 'Soybean___healthy': 24, 'Squash___Powdery_mildew': 25, 'Strawberry___Leaf_scorch': 26, 'Strawberry___healthy': 27, 'Tomato___Bacterial_spot': 28, 'Tomato___Early_blight': 29, 'Tomato___Late_blight': 30, 'Tomato___Leaf_Mold': 31, 'Tomato___Septoria_leaf_spot': 32, 'Tomato___Spider_mites Two-spotted_spider_mite': 33, 'Tomato___Target_Spot': 34, 'Tomato___Tomato_Yellow_Leaf_Curl_Virus': 35, 'Tomato___Tomato_mosaic_virus': 36, 'Tomato___healthy': 37}\n"
     ]
    }
   ],
   "source": [
    "#dataset paths\n",
    "train_dir=r\"C:\\Users\\DELL\\Downloads\\archive (1)\\New Plant Diseases Dataset(Augmented)\\New Plant Diseases Dataset(Augmented)\\train\"\n",
    "valid_dir = r\"C:\\Users\\DELL\\Downloads\\archive (1)\\New Plant Diseases Dataset(Augmented)\\New Plant Diseases Dataset(Augmented)\\valid\"\n",
    "# Image Preprocessing - Resize and rescale images\n",
    "image_size = (150, 150)  # Resize images to 150x150 pixels\n",
    "batch_size = 32\n",
    "\n",
    "# Setup ImageDataGenerator for data augmentation and rescaling\n",
    "valid_datagen = ImageDataGenerator(\n",
    "    rescale=1./255, # Rescale pixel values to [0, 1]\n",
    "    rotation_range=30, # Randomly rotate images\n",
    "    width_shift_range=0.2, # Shift image horizontally\n",
    "    height_shift_range=0.2, # Shift image vertically\n",
    "    shear_range=0.2, # Shear images\n",
    "    zoom_range=0.2, # Zoom in or out\n",
    "    horizontal_flip=True, # Randomly flip images horizontally\n",
    "    fill_mode='nearest' # Fill any missing pixels after transformations\n",
    ")\n",
    "# Create a generator for the training data\n",
    "valid_generator=valid_datagen.flow_from_directory(\n",
    "    valid_dir,\n",
    "    target_size= image_size,\n",
    "    batch_size=batch_size,\n",
    "    class_mode='categorical' # Use 'categorical' for multi-class classification\n",
    ")\n",
    "#check the class labels\n",
    "print(f\"Class labels:{valid_generator.class_indices}\")"
   ]
  },
  {
   "cell_type": "code",
   "execution_count": 5,
   "metadata": {},
   "outputs": [
    {
     "name": "stdout",
     "output_type": "stream",
     "text": [
      "Found 70295 images belonging to 38 classes.\n",
      "Class labels:{'Apple___Apple_scab': 0, 'Apple___Black_rot': 1, 'Apple___Cedar_apple_rust': 2, 'Apple___healthy': 3, 'Blueberry___healthy': 4, 'Cherry_(including_sour)___Powdery_mildew': 5, 'Cherry_(including_sour)___healthy': 6, 'Corn_(maize)___Cercospora_leaf_spot Gray_leaf_spot': 7, 'Corn_(maize)___Common_rust_': 8, 'Corn_(maize)___Northern_Leaf_Blight': 9, 'Corn_(maize)___healthy': 10, 'Grape___Black_rot': 11, 'Grape___Esca_(Black_Measles)': 12, 'Grape___Leaf_blight_(Isariopsis_Leaf_Spot)': 13, 'Grape___healthy': 14, 'Orange___Haunglongbing_(Citrus_greening)': 15, 'Peach___Bacterial_spot': 16, 'Peach___healthy': 17, 'Pepper,_bell___Bacterial_spot': 18, 'Pepper,_bell___healthy': 19, 'Potato___Early_blight': 20, 'Potato___Late_blight': 21, 'Potato___healthy': 22, 'Raspberry___healthy': 23, 'Soybean___healthy': 24, 'Squash___Powdery_mildew': 25, 'Strawberry___Leaf_scorch': 26, 'Strawberry___healthy': 27, 'Tomato___Bacterial_spot': 28, 'Tomato___Early_blight': 29, 'Tomato___Late_blight': 30, 'Tomato___Leaf_Mold': 31, 'Tomato___Septoria_leaf_spot': 32, 'Tomato___Spider_mites Two-spotted_spider_mite': 33, 'Tomato___Target_Spot': 34, 'Tomato___Tomato_Yellow_Leaf_Curl_Virus': 35, 'Tomato___Tomato_mosaic_virus': 36, 'Tomato___healthy': 37}\n"
     ]
    }
   ],
   "source": [
    "\n",
    "train_dir=r\"C:\\Users\\DELL\\Downloads\\archive (1)\\New Plant Diseases Dataset(Augmented)\\New Plant Diseases Dataset(Augmented)\\train\"\n",
    "# Image Preprocessing - Resize and rescale images\n",
    "image_size = (150, 150)  # Resize images to 150x150 pixels\n",
    "batch_size = 32\n",
    "\n",
    "# Setup ImageDataGenerator for data augmentation and rescaling\n",
    "train_datagen = ImageDataGenerator(\n",
    "    rescale=1./255, # Rescale pixel values to [0, 1]\n",
    "    rotation_range=30, # Randomly rotate images\n",
    "    width_shift_range=0.2, # Shift image horizontally\n",
    "    height_shift_range=0.2, # Shift image vertically\n",
    "    shear_range=0.2, # Shear images\n",
    "    zoom_range=0.2, # Zoom in or out\n",
    "    horizontal_flip=True, # Randomly flip images horizontally\n",
    "    fill_mode='nearest' # Fill any missing pixels after transformations\n",
    ")\n",
    "# Create a generator for the training data\n",
    "train_generator=train_datagen.flow_from_directory(\n",
    "    train_dir,\n",
    "    target_size= image_size,\n",
    "    batch_size=batch_size,\n",
    "    class_mode='categorical' # Use 'categorical' for multi-class classification\n",
    ")\n",
    "#check the class labels\n",
    "print(f\"Class labels:{train_generator.class_indices}\")"
   ]
  },
  {
   "cell_type": "code",
   "execution_count": null,
   "metadata": {},
   "outputs": [
    {
     "name": "stdout",
     "output_type": "stream",
     "text": [
      "Found 70295 images belonging to 38 classes.\n",
      "Found 17572 images belonging to 38 classes.\n",
      "Epoch 1/10\n",
      "\u001b[1m 737/2197\u001b[0m \u001b[32m━━━━━━\u001b[0m\u001b[37m━━━━━━━━━━━━━━\u001b[0m \u001b[1m17:07\u001b[0m 704ms/step - accuracy: 0.2000 - loss: 2.8807"
     ]
    }
   ],
   "source": [
    "import os\n",
    "import numpy as np\n",
    "import tensorflow as tf\n",
    "import streamlit as st\n",
    "import cv2\n",
    "from tensorflow.keras.preprocessing.image import ImageDataGenerator\n",
    "from tensorflow.keras.models import Sequential\n",
    "from tensorflow.keras.layers import Conv2D, MaxPooling2D, Flatten, Dense, Dropout\n",
    "from tensorflow.keras.applications import VGG16, ResNet50, EfficientNetB0\n",
    "from tensorflow.keras.preprocessing import image\n",
    "\n",
    "# Directories\n",
    "train_dir = r\"C:\\Users\\DELL\\Downloads\\archive (1)\\New Plant Diseases Dataset(Augmented)\\New Plant Diseases Dataset(Augmented)\\train\"\n",
    "valid_dir = r\"C:\\Users\\DELL\\Downloads\\archive (1)\\New Plant Diseases Dataset(Augmented)\\New Plant Diseases Dataset(Augmented)\\valid\"\n",
    "\n",
    "# Image parameters\n",
    "image_size = (150, 150)\n",
    "batch_size = 32\n",
    "\n",
    "# Data Augmentation & Preprocessing\n",
    "train_datagen = ImageDataGenerator(\n",
    "    rescale=1./255,\n",
    "    rotation_range=30,\n",
    "    width_shift_range=0.2,\n",
    "    height_shift_range=0.2,\n",
    "    shear_range=0.2,\n",
    "    zoom_range=0.2,\n",
    "    horizontal_flip=True,\n",
    "    fill_mode='nearest'\n",
    ")\n",
    "valid_datagen = ImageDataGenerator(rescale=1./255)\n",
    "\n",
    "# Data Generators\n",
    "train_generator = train_datagen.flow_from_directory(\n",
    "    train_dir, target_size=image_size, batch_size=batch_size, class_mode='categorical')\n",
    "valid_generator = valid_datagen.flow_from_directory(\n",
    "    valid_dir, target_size=image_size, batch_size=batch_size, class_mode='categorical')\n",
    "\n",
    "# Define CNN Model\n",
    "def build_model():\n",
    "    model = Sequential([\n",
    "        Conv2D(32, (3,3), activation='relu', input_shape=(150, 150, 3)),\n",
    "        MaxPooling2D(2,2),\n",
    "        Conv2D(64, (3,3), activation='relu'),\n",
    "        MaxPooling2D(2,2),\n",
    "        Conv2D(128, (3,3), activation='relu'),\n",
    "        MaxPooling2D(2,2),\n",
    "        Flatten(),\n",
    "        Dense(512, activation='relu'),\n",
    "        Dropout(0.5),\n",
    "        Dense(38, activation='softmax')\n",
    "    ])\n",
    "    return model\n",
    "\n",
    "# Compile & Train Model\n",
    "model = build_model()\n",
    "model.compile(optimizer='adam', loss='categorical_crossentropy', metrics=['accuracy'])\n",
    "history = model.fit(train_generator, validation_data=valid_generator, epochs=10)\n",
    "\n",
    "# Save Model\n",
    "model.save(\"plant_disease_model.h5\")\n",
    "\n",
    "# Load Pretrained Models for Comparison\n",
    "def load_pretrained_model(base_model):\n",
    "    model = Sequential([\n",
    "        base_model,\n",
    "        Flatten(),\n",
    "        Dense(512, activation='relu'),\n",
    "        Dropout(0.5),\n",
    "        Dense(38, activation='softmax')\n",
    "    ])\n",
    "    return model\n",
    "\n",
    "vgg_model = load_pretrained_model(VGG16(weights='imagenet', include_top=False, input_shape=(150,150,3)))\n",
    "vgg_model.compile(optimizer='adam', loss='categorical_crossentropy', metrics=['accuracy'])\n",
    "resnet_model = load_pretrained_model(ResNet50(weights='imagenet', include_top=False, input_shape=(150,150,3)))\n",
    "resnet_model.compile(optimizer='adam', loss='categorical_crossentropy', metrics=['accuracy'])\n",
    "efficient_model = load_pretrained_model(EfficientNetB0(weights='imagenet', include_top=False, input_shape=(150,150,3)))\n",
    "efficient_model.compile(optimizer='adam', loss='categorical_crossentropy', metrics=['accuracy'])\n",
    "\n"
   ]
  },
  {
   "cell_type": "code",
   "execution_count": null,
   "metadata": {},
   "outputs": [],
   "source": [
    "# Streamlit App\n",
    "st.title(\"Plant Disease Detection\")\n",
    "uploaded_file = st.file_uploader(\"Upload a leaf image\", type=[\"jpg\", \"png\", \"jpeg\"])\n",
    "if uploaded_file:\n",
    "    file_bytes = np.asarray(bytearray(uploaded_file.read()), dtype=np.uint8)\n",
    "    img = cv2.imdecode(file_bytes, 1)\n",
    "    img = cv2.resize(img, (150, 150)) / 255.0\n",
    "    img = np.expand_dims(img, axis=0)\n",
    "    prediction = model.predict(img)\n",
    "    class_labels = list(train_generator.class_indices.keys())\n",
    "    st.write(f\"Prediction: {class_labels[np.argmax(prediction)]}\")"
   ]
  }
 ],
 "metadata": {
  "kernelspec": {
   "display_name": "base",
   "language": "python",
   "name": "python3"
  },
  "language_info": {
   "codemirror_mode": {
    "name": "ipython",
    "version": 3
   },
   "file_extension": ".py",
   "mimetype": "text/x-python",
   "name": "python",
   "nbconvert_exporter": "python",
   "pygments_lexer": "ipython3",
   "version": "3.12.4"
  }
 },
 "nbformat": 4,
 "nbformat_minor": 2
}
